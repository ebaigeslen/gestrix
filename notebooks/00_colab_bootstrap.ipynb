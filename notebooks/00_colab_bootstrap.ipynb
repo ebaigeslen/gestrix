{
 "cells": [
  {
   "cell_type": "markdown",
   "id": "7fb27b941602401d91542211134fc71a",
   "metadata": {},
   "source": [
    "# Gestrix – Colab Bootstrap\n",
    "This notebook prepares a clean Colab runtime for Gestrix."
   ]
  },
  {
   "cell_type": "code",
   "execution_count": null,
   "id": "acae54e37e7d407bbb7b55eff062a284",
   "metadata": {},
   "outputs": [],
   "source": [
    "# Install lightweight dependencies\n",
    "!pip -q install -r https://raw.githubusercontent.com/ebaigeslen/gestrix/main/colab-requirements.txt"
   ]
  },
  {
   "cell_type": "code",
   "execution_count": null,
   "id": "9a63283cbaf04dbcab1f6479b197f3a8",
   "metadata": {},
   "outputs": [],
   "source": [
    "# Clone or update the repository\n",
    "import os\n",
    "\n",
    "if not os.path.isdir(\"/content/gestrix\"):\n",
    "    !git clone https://github.com/ebaigeslen/gestrix.git /content/gestrix\n",
    "else:\n",
    "    %cd /content/gestrix\n",
    "    !git pull\n",
    "    %cd /content"
   ]
  },
  {
   "cell_type": "code",
   "execution_count": null,
   "id": "8dd0d8092fe74a7c96281538738b07e2",
   "metadata": {},
   "outputs": [],
   "source": [
    "# Add src to path and sanity-check import\n",
    "import sys\n",
    "\n",
    "sys.path.append(\"/content/gestrix/src\")\n",
    "from gestrix.cli import hello\n",
    "\n",
    "print(hello(\"Colab\"))"
   ]
  },
  {
   "cell_type": "code",
   "execution_count": null,
   "id": "72eea5119410473aa328ad9291626812",
   "metadata": {},
   "outputs": [],
   "source": [
    "# Run the CLI directly\n",
    "%cd /content/gestrix\n",
    "!python -m gestrix.cli hello Colab\n",
    "%cd /content"
   ]
  }
 ],
 "metadata": {
  "kernelspec": {
   "display_name": "Python 3",
   "language": "python",
   "name": "python3"
  },
  "language_info": {
   "name": "python",
   "version": "3"
  }
 },
 "nbformat": 4,
 "nbformat_minor": 5
}
